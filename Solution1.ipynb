{
  "nbformat": 4,
  "nbformat_minor": 0,
  "metadata": {
    "kernelspec": {
      "display_name": "Python 3",
      "language": "python",
      "name": "python3"
    },
    "language_info": {
      "codemirror_mode": {
        "name": "ipython",
        "version": 3
      },
      "file_extension": ".py",
      "mimetype": "text/x-python",
      "name": "python",
      "nbconvert_exporter": "python",
      "pygments_lexer": "ipython3",
      "version": "3.6.5"
    },
    "colab": {
      "name": "exp9-10_ml.ipynb",
      "provenance": [],
      "toc_visible": true
    }
  },
  "cells": [
    {
      "cell_type": "markdown",
      "metadata": {
        "id": "WJuuD5SzV7zb"
      },
      "source": [
        "# IMPORT **LIBRARIES**"
      ]
    },
    {
      "cell_type": "code",
      "metadata": {
        "id": "K6j2DpaKVOWU"
      },
      "source": [
        "import pandas as pd\n",
        "df = pd.read_csv(\"Cricket.csv\", encoding= 'latin1') "
      ],
      "execution_count": 5,
      "outputs": []
    },
    {
      "cell_type": "markdown",
      "metadata": {
        "id": "V7wCiER8V5tW"
      },
      "source": [
        ""
      ]
    },
    {
      "cell_type": "code",
      "metadata": {
        "colab": {
          "base_uri": "https://localhost:8080/",
          "height": 195
        },
        "id": "owBVDSrSVOWY",
        "outputId": "dcf8080c-e448-4aed-da02-48bc33286207"
      },
      "source": [
        "df.head()"
      ],
      "execution_count": 6,
      "outputs": [
        {
          "output_type": "execute_result",
          "data": {
            "text/html": [
              "<div>\n",
              "<style scoped>\n",
              "    .dataframe tbody tr th:only-of-type {\n",
              "        vertical-align: middle;\n",
              "    }\n",
              "\n",
              "    .dataframe tbody tr th {\n",
              "        vertical-align: top;\n",
              "    }\n",
              "\n",
              "    .dataframe thead th {\n",
              "        text-align: right;\n",
              "    }\n",
              "</style>\n",
              "<table border=\"1\" class=\"dataframe\">\n",
              "  <thead>\n",
              "    <tr style=\"text-align: right;\">\n",
              "      <th></th>\n",
              "      <th>Player</th>\n",
              "      <th>Span</th>\n",
              "      <th>Mat</th>\n",
              "      <th>Inns</th>\n",
              "      <th>NO</th>\n",
              "      <th>Runs</th>\n",
              "      <th>HS</th>\n",
              "      <th>Ave</th>\n",
              "      <th>BF</th>\n",
              "      <th>SR</th>\n",
              "      <th>100</th>\n",
              "      <th>50</th>\n",
              "      <th>0</th>\n",
              "    </tr>\n",
              "  </thead>\n",
              "  <tbody>\n",
              "    <tr>\n",
              "      <th>0</th>\n",
              "      <td>SR Tendulkar (INDIA)</td>\n",
              "      <td>1989-2012</td>\n",
              "      <td>463</td>\n",
              "      <td>452</td>\n",
              "      <td>41</td>\n",
              "      <td>18426</td>\n",
              "      <td>200*</td>\n",
              "      <td>44.83</td>\n",
              "      <td>21367</td>\n",
              "      <td>86.23</td>\n",
              "      <td>49</td>\n",
              "      <td>96</td>\n",
              "      <td>20</td>\n",
              "    </tr>\n",
              "    <tr>\n",
              "      <th>1</th>\n",
              "      <td>KC Sangakkara (Asia/ICC/SL)</td>\n",
              "      <td>2000-2015</td>\n",
              "      <td>404</td>\n",
              "      <td>380</td>\n",
              "      <td>41</td>\n",
              "      <td>14234</td>\n",
              "      <td>169</td>\n",
              "      <td>41.98</td>\n",
              "      <td>18048</td>\n",
              "      <td>78.86</td>\n",
              "      <td>25</td>\n",
              "      <td>93</td>\n",
              "      <td>15</td>\n",
              "    </tr>\n",
              "    <tr>\n",
              "      <th>2</th>\n",
              "      <td>RT Ponting (AUS/ICC)</td>\n",
              "      <td>1995-2012</td>\n",
              "      <td>375</td>\n",
              "      <td>365</td>\n",
              "      <td>39</td>\n",
              "      <td>13704</td>\n",
              "      <td>164</td>\n",
              "      <td>42.03</td>\n",
              "      <td>17046</td>\n",
              "      <td>80.39</td>\n",
              "      <td>30</td>\n",
              "      <td>82</td>\n",
              "      <td>20</td>\n",
              "    </tr>\n",
              "    <tr>\n",
              "      <th>3</th>\n",
              "      <td>ST Jayasuriya (Asia/SL)</td>\n",
              "      <td>1989-2011</td>\n",
              "      <td>445</td>\n",
              "      <td>433</td>\n",
              "      <td>18</td>\n",
              "      <td>13430</td>\n",
              "      <td>189</td>\n",
              "      <td>32.36</td>\n",
              "      <td>14725</td>\n",
              "      <td>91.20</td>\n",
              "      <td>28</td>\n",
              "      <td>68</td>\n",
              "      <td>34</td>\n",
              "    </tr>\n",
              "    <tr>\n",
              "      <th>4</th>\n",
              "      <td>DPMD Jayawardene (Asia/SL)</td>\n",
              "      <td>1998-2015</td>\n",
              "      <td>448</td>\n",
              "      <td>418</td>\n",
              "      <td>39</td>\n",
              "      <td>12650</td>\n",
              "      <td>144</td>\n",
              "      <td>33.37</td>\n",
              "      <td>16020</td>\n",
              "      <td>78.96</td>\n",
              "      <td>19</td>\n",
              "      <td>77</td>\n",
              "      <td>28</td>\n",
              "    </tr>\n",
              "  </tbody>\n",
              "</table>\n",
              "</div>"
            ],
            "text/plain": [
              "                        Player       Span  Mat  Inns  ...     SR  100  50   0\n",
              "0         SR Tendulkar (INDIA)  1989-2012  463   452  ...  86.23   49  96  20\n",
              "1  KC Sangakkara (Asia/ICC/SL)  2000-2015  404   380  ...  78.86   25  93  15\n",
              "2         RT Ponting (AUS/ICC)  1995-2012  375   365  ...  80.39   30  82  20\n",
              "3      ST Jayasuriya (Asia/SL)  1989-2011  445   433  ...  91.20   28  68  34\n",
              "4   DPMD Jayawardene (Asia/SL)  1998-2015  448   418  ...  78.96   19  77  28\n",
              "\n",
              "[5 rows x 13 columns]"
            ]
          },
          "metadata": {
            "tags": []
          },
          "execution_count": 6
        }
      ]
    },
    {
      "cell_type": "code",
      "metadata": {
        "colab": {
          "base_uri": "https://localhost:8080/"
        },
        "id": "fFRzsrzqWzav",
        "outputId": "4ad90e80-806f-4f8e-ddd3-4f3cf3968354"
      },
      "source": [
        "df.shape"
      ],
      "execution_count": 7,
      "outputs": [
        {
          "output_type": "execute_result",
          "data": {
            "text/plain": [
              "(79, 13)"
            ]
          },
          "metadata": {
            "tags": []
          },
          "execution_count": 7
        }
      ]
    },
    {
      "cell_type": "code",
      "metadata": {
        "id": "6fFrRENIW8NY"
      },
      "source": [
        "df_dub = df.copy()\r\n",
        "# Checking for duplicates and dropping the entire duplicate row if any\r\n",
        "df_dub.drop_duplicates(subset=None, inplace=True)"
      ],
      "execution_count": 8,
      "outputs": []
    },
    {
      "cell_type": "code",
      "metadata": {
        "colab": {
          "base_uri": "https://localhost:8080/"
        },
        "id": "b7tOD8msW8KU",
        "outputId": "5d142941-0881-4710-9438-79bb9e4a1889"
      },
      "source": [
        "df_dub.shape"
      ],
      "execution_count": 9,
      "outputs": [
        {
          "output_type": "execute_result",
          "data": {
            "text/plain": [
              "(79, 13)"
            ]
          },
          "metadata": {
            "tags": []
          },
          "execution_count": 9
        }
      ]
    },
    {
      "cell_type": "markdown",
      "metadata": {
        "id": "68wAG0U1XBtU"
      },
      "source": [
        "we can see that in both original and duplicate data set having same values. So, we can conclude that there are no duplicates in the data set."
      ]
    },
    {
      "cell_type": "code",
      "metadata": {
        "colab": {
          "base_uri": "https://localhost:8080/"
        },
        "id": "otOLZZpTXDYo",
        "outputId": "77c75e12-ea2a-4608-a84e-471cf761e623"
      },
      "source": [
        "df.info()"
      ],
      "execution_count": 10,
      "outputs": [
        {
          "output_type": "stream",
          "text": [
            "<class 'pandas.core.frame.DataFrame'>\n",
            "RangeIndex: 79 entries, 0 to 78\n",
            "Data columns (total 13 columns):\n",
            " #   Column  Non-Null Count  Dtype  \n",
            "---  ------  --------------  -----  \n",
            " 0   Player  79 non-null     object \n",
            " 1   Span    79 non-null     object \n",
            " 2   Mat     79 non-null     int64  \n",
            " 3   Inns    79 non-null     int64  \n",
            " 4   NO      79 non-null     int64  \n",
            " 5   Runs    79 non-null     int64  \n",
            " 6   HS      79 non-null     object \n",
            " 7   Ave     79 non-null     float64\n",
            " 8   BF      79 non-null     int64  \n",
            " 9   SR      79 non-null     float64\n",
            " 10  100     79 non-null     int64  \n",
            " 11  50      79 non-null     int64  \n",
            " 12  0       79 non-null     int64  \n",
            "dtypes: float64(2), int64(8), object(3)\n",
            "memory usage: 8.1+ KB\n"
          ],
          "name": "stdout"
        }
      ]
    },
    {
      "cell_type": "code",
      "metadata": {
        "colab": {
          "base_uri": "https://localhost:8080/",
          "height": 284
        },
        "id": "Ww1c7CEfXPec",
        "outputId": "7b37989e-7b26-4b75-997e-2d42402db8e4"
      },
      "source": [
        "df.describe()"
      ],
      "execution_count": 11,
      "outputs": [
        {
          "output_type": "execute_result",
          "data": {
            "text/html": [
              "<div>\n",
              "<style scoped>\n",
              "    .dataframe tbody tr th:only-of-type {\n",
              "        vertical-align: middle;\n",
              "    }\n",
              "\n",
              "    .dataframe tbody tr th {\n",
              "        vertical-align: top;\n",
              "    }\n",
              "\n",
              "    .dataframe thead th {\n",
              "        text-align: right;\n",
              "    }\n",
              "</style>\n",
              "<table border=\"1\" class=\"dataframe\">\n",
              "  <thead>\n",
              "    <tr style=\"text-align: right;\">\n",
              "      <th></th>\n",
              "      <th>Mat</th>\n",
              "      <th>Inns</th>\n",
              "      <th>NO</th>\n",
              "      <th>Runs</th>\n",
              "      <th>Ave</th>\n",
              "      <th>BF</th>\n",
              "      <th>SR</th>\n",
              "      <th>100</th>\n",
              "      <th>50</th>\n",
              "      <th>0</th>\n",
              "    </tr>\n",
              "  </thead>\n",
              "  <tbody>\n",
              "    <tr>\n",
              "      <th>count</th>\n",
              "      <td>79.000000</td>\n",
              "      <td>79.000000</td>\n",
              "      <td>79.000000</td>\n",
              "      <td>79.000000</td>\n",
              "      <td>79.000000</td>\n",
              "      <td>79.000000</td>\n",
              "      <td>79.000000</td>\n",
              "      <td>79.000000</td>\n",
              "      <td>79.000000</td>\n",
              "      <td>79.000000</td>\n",
              "    </tr>\n",
              "    <tr>\n",
              "      <th>mean</th>\n",
              "      <td>245.075949</td>\n",
              "      <td>230.544304</td>\n",
              "      <td>30.037975</td>\n",
              "      <td>7618.139241</td>\n",
              "      <td>38.523291</td>\n",
              "      <td>9684.455696</td>\n",
              "      <td>79.295316</td>\n",
              "      <td>11.556962</td>\n",
              "      <td>46.443038</td>\n",
              "      <td>13.253165</td>\n",
              "    </tr>\n",
              "    <tr>\n",
              "      <th>std</th>\n",
              "      <td>74.211716</td>\n",
              "      <td>70.321022</td>\n",
              "      <td>14.421710</td>\n",
              "      <td>2551.873313</td>\n",
              "      <td>5.919093</td>\n",
              "      <td>3193.835825</td>\n",
              "      <td>9.925307</td>\n",
              "      <td>8.092014</td>\n",
              "      <td>16.351701</td>\n",
              "      <td>5.925755</td>\n",
              "    </tr>\n",
              "    <tr>\n",
              "      <th>min</th>\n",
              "      <td>128.000000</td>\n",
              "      <td>127.000000</td>\n",
              "      <td>4.000000</td>\n",
              "      <td>5080.000000</td>\n",
              "      <td>23.570000</td>\n",
              "      <td>5504.000000</td>\n",
              "      <td>60.570000</td>\n",
              "      <td>0.000000</td>\n",
              "      <td>23.000000</td>\n",
              "      <td>3.000000</td>\n",
              "    </tr>\n",
              "    <tr>\n",
              "      <th>25%</th>\n",
              "      <td>188.000000</td>\n",
              "      <td>177.000000</td>\n",
              "      <td>17.500000</td>\n",
              "      <td>5759.000000</td>\n",
              "      <td>34.600000</td>\n",
              "      <td>7393.500000</td>\n",
              "      <td>73.725000</td>\n",
              "      <td>6.000000</td>\n",
              "      <td>34.500000</td>\n",
              "      <td>9.000000</td>\n",
              "    </tr>\n",
              "    <tr>\n",
              "      <th>50%</th>\n",
              "      <td>232.000000</td>\n",
              "      <td>217.000000</td>\n",
              "      <td>29.000000</td>\n",
              "      <td>6798.000000</td>\n",
              "      <td>37.870000</td>\n",
              "      <td>9134.000000</td>\n",
              "      <td>77.730000</td>\n",
              "      <td>10.000000</td>\n",
              "      <td>42.000000</td>\n",
              "      <td>13.000000</td>\n",
              "    </tr>\n",
              "    <tr>\n",
              "      <th>75%</th>\n",
              "      <td>281.500000</td>\n",
              "      <td>261.500000</td>\n",
              "      <td>40.000000</td>\n",
              "      <td>8739.500000</td>\n",
              "      <td>41.845000</td>\n",
              "      <td>10976.000000</td>\n",
              "      <td>85.180000</td>\n",
              "      <td>15.500000</td>\n",
              "      <td>54.000000</td>\n",
              "      <td>16.000000</td>\n",
              "    </tr>\n",
              "    <tr>\n",
              "      <th>max</th>\n",
              "      <td>463.000000</td>\n",
              "      <td>452.000000</td>\n",
              "      <td>70.000000</td>\n",
              "      <td>18426.000000</td>\n",
              "      <td>53.940000</td>\n",
              "      <td>21367.000000</td>\n",
              "      <td>117.000000</td>\n",
              "      <td>49.000000</td>\n",
              "      <td>96.000000</td>\n",
              "      <td>34.000000</td>\n",
              "    </tr>\n",
              "  </tbody>\n",
              "</table>\n",
              "</div>"
            ],
            "text/plain": [
              "              Mat        Inns         NO  ...        100         50          0\n",
              "count   79.000000   79.000000  79.000000  ...  79.000000  79.000000  79.000000\n",
              "mean   245.075949  230.544304  30.037975  ...  11.556962  46.443038  13.253165\n",
              "std     74.211716   70.321022  14.421710  ...   8.092014  16.351701   5.925755\n",
              "min    128.000000  127.000000   4.000000  ...   0.000000  23.000000   3.000000\n",
              "25%    188.000000  177.000000  17.500000  ...   6.000000  34.500000   9.000000\n",
              "50%    232.000000  217.000000  29.000000  ...  10.000000  42.000000  13.000000\n",
              "75%    281.500000  261.500000  40.000000  ...  15.500000  54.000000  16.000000\n",
              "max    463.000000  452.000000  70.000000  ...  49.000000  96.000000  34.000000\n",
              "\n",
              "[8 rows x 10 columns]"
            ]
          },
          "metadata": {
            "tags": []
          },
          "execution_count": 11
        }
      ]
    },
    {
      "cell_type": "markdown",
      "metadata": {
        "id": "MMkYl3QzVOWb"
      },
      "source": [
        "# <h2>Create **Cluster** on bases of Average(Ave) and Strike rate(SR)"
      ]
    },
    {
      "cell_type": "markdown",
      "metadata": {
        "id": "J7gXNDCfVOWb"
      },
      "source": [
        "**Data** **Cleaning**"
      ]
    },
    {
      "cell_type": "code",
      "metadata": {
        "colab": {
          "base_uri": "https://localhost:8080/"
        },
        "id": "oLX-m0NpYATz",
        "outputId": "58ec64c7-8b5e-4f7e-8675-87315c94727a"
      },
      "source": [
        "(df.isnull().sum() * 100 / len(df)).value_counts(ascending=False)"
      ],
      "execution_count": 12,
      "outputs": [
        {
          "output_type": "execute_result",
          "data": {
            "text/plain": [
              "0.0    13\n",
              "dtype: int64"
            ]
          },
          "metadata": {
            "tags": []
          },
          "execution_count": 12
        }
      ]
    },
    {
      "cell_type": "code",
      "metadata": {
        "colab": {
          "base_uri": "https://localhost:8080/"
        },
        "id": "m4KdMLNXYi94",
        "outputId": "55b0cfc0-e2d3-45cf-934e-6f2865c559a9"
      },
      "source": [
        "df.isnull().sum().value_counts(ascending=False)"
      ],
      "execution_count": 13,
      "outputs": [
        {
          "output_type": "execute_result",
          "data": {
            "text/plain": [
              "0    13\n",
              "dtype: int64"
            ]
          },
          "metadata": {
            "tags": []
          },
          "execution_count": 13
        }
      ]
    },
    {
      "cell_type": "code",
      "metadata": {
        "colab": {
          "base_uri": "https://localhost:8080/"
        },
        "id": "Laee7U5vYntz",
        "outputId": "734d28d9-9948-45e8-e432-bb55e41e8c4a"
      },
      "source": [
        "(df.isnull().sum(axis=1) * 100 / len(df)).value_counts(ascending=False)"
      ],
      "execution_count": 14,
      "outputs": [
        {
          "output_type": "execute_result",
          "data": {
            "text/plain": [
              "0.0    79\n",
              "dtype: int64"
            ]
          },
          "metadata": {
            "tags": []
          },
          "execution_count": 14
        }
      ]
    },
    {
      "cell_type": "code",
      "metadata": {
        "colab": {
          "base_uri": "https://localhost:8080/"
        },
        "id": "oYQ1hQwrYxfD",
        "outputId": "69d5f1f5-1164-48c7-a974-b3fff031f0f7"
      },
      "source": [
        "df.isnull().sum(axis=1).value_counts(ascending=False)"
      ],
      "execution_count": 15,
      "outputs": [
        {
          "output_type": "execute_result",
          "data": {
            "text/plain": [
              "0    79\n",
              "dtype: int64"
            ]
          },
          "metadata": {
            "tags": []
          },
          "execution_count": 15
        }
      ]
    },
    {
      "cell_type": "markdown",
      "metadata": {
        "id": "WU1cnNr1Y4Hm"
      },
      "source": [
        "There are no missing / Null values either in columns or rows"
      ]
    },
    {
      "cell_type": "markdown",
      "metadata": {
        "id": "TEA2gQl9VOWd"
      },
      "source": [
        "Choose strike rate and average as the two factors on which you will cluster the data. You don’t need to clean the data. Just scale the data using the scale command and create the clusters."
      ]
    },
    {
      "cell_type": "code",
      "metadata": {
        "id": "vBtLJcN0VOWe"
      },
      "source": [
        "col = ['Ave','SR']\n",
        "X = df[col].astype(float)"
      ],
      "execution_count": 27,
      "outputs": []
    },
    {
      "cell_type": "code",
      "metadata": {
        "colab": {
          "base_uri": "https://localhost:8080/",
          "height": 195
        },
        "id": "f7p9lHe7VOWf",
        "outputId": "eee7ebb8-bac1-483f-c437-7f22dcde9871"
      },
      "source": [
        "X.head()"
      ],
      "execution_count": 18,
      "outputs": [
        {
          "output_type": "execute_result",
          "data": {
            "text/html": [
              "<div>\n",
              "<style scoped>\n",
              "    .dataframe tbody tr th:only-of-type {\n",
              "        vertical-align: middle;\n",
              "    }\n",
              "\n",
              "    .dataframe tbody tr th {\n",
              "        vertical-align: top;\n",
              "    }\n",
              "\n",
              "    .dataframe thead th {\n",
              "        text-align: right;\n",
              "    }\n",
              "</style>\n",
              "<table border=\"1\" class=\"dataframe\">\n",
              "  <thead>\n",
              "    <tr style=\"text-align: right;\">\n",
              "      <th></th>\n",
              "      <th>Ave</th>\n",
              "      <th>SR</th>\n",
              "    </tr>\n",
              "  </thead>\n",
              "  <tbody>\n",
              "    <tr>\n",
              "      <th>0</th>\n",
              "      <td>44.83</td>\n",
              "      <td>86.23</td>\n",
              "    </tr>\n",
              "    <tr>\n",
              "      <th>1</th>\n",
              "      <td>41.98</td>\n",
              "      <td>78.86</td>\n",
              "    </tr>\n",
              "    <tr>\n",
              "      <th>2</th>\n",
              "      <td>42.03</td>\n",
              "      <td>80.39</td>\n",
              "    </tr>\n",
              "    <tr>\n",
              "      <th>3</th>\n",
              "      <td>32.36</td>\n",
              "      <td>91.20</td>\n",
              "    </tr>\n",
              "    <tr>\n",
              "      <th>4</th>\n",
              "      <td>33.37</td>\n",
              "      <td>78.96</td>\n",
              "    </tr>\n",
              "  </tbody>\n",
              "</table>\n",
              "</div>"
            ],
            "text/plain": [
              "     Ave     SR\n",
              "0  44.83  86.23\n",
              "1  41.98  78.86\n",
              "2  42.03  80.39\n",
              "3  32.36  91.20\n",
              "4  33.37  78.96"
            ]
          },
          "metadata": {
            "tags": []
          },
          "execution_count": 18
        }
      ]
    },
    {
      "cell_type": "markdown",
      "metadata": {
        "id": "Qh2Gg6LNVOWf"
      },
      "source": [
        "Standard scaling"
      ]
    },
    {
      "cell_type": "code",
      "metadata": {
        "id": "Fw7kJZhYVOWg"
      },
      "source": [
        "from sklearn.preprocessing import StandardScaler\n",
        "standard_scale = StandardScaler()\n",
        "x = standard_scale.fit_transform(X)"
      ],
      "execution_count": 19,
      "outputs": []
    },
    {
      "cell_type": "code",
      "metadata": {
        "id": "ks-XZj8_VOWg"
      },
      "source": [
        "x = pd.DataFrame(x)"
      ],
      "execution_count": 20,
      "outputs": []
    },
    {
      "cell_type": "code",
      "metadata": {
        "id": "WgZ0d38PVOWh"
      },
      "source": [
        "x.columns = [col]"
      ],
      "execution_count": 21,
      "outputs": []
    },
    {
      "cell_type": "code",
      "metadata": {
        "colab": {
          "base_uri": "https://localhost:8080/",
          "height": 195
        },
        "id": "BheOJhbEVOWh",
        "outputId": "0c660636-0899-45f6-afbb-8411599ecbb1"
      },
      "source": [
        "x.head()"
      ],
      "execution_count": 22,
      "outputs": [
        {
          "output_type": "execute_result",
          "data": {
            "text/html": [
              "<div>\n",
              "<style scoped>\n",
              "    .dataframe tbody tr th:only-of-type {\n",
              "        vertical-align: middle;\n",
              "    }\n",
              "\n",
              "    .dataframe tbody tr th {\n",
              "        vertical-align: top;\n",
              "    }\n",
              "\n",
              "    .dataframe thead tr th {\n",
              "        text-align: left;\n",
              "    }\n",
              "</style>\n",
              "<table border=\"1\" class=\"dataframe\">\n",
              "  <thead>\n",
              "    <tr>\n",
              "      <th></th>\n",
              "      <th>Ave</th>\n",
              "      <th>SR</th>\n",
              "    </tr>\n",
              "  </thead>\n",
              "  <tbody>\n",
              "    <tr>\n",
              "      <th>0</th>\n",
              "      <td>1.072294</td>\n",
              "      <td>0.703152</td>\n",
              "    </tr>\n",
              "    <tr>\n",
              "      <th>1</th>\n",
              "      <td>0.587725</td>\n",
              "      <td>-0.044139</td>\n",
              "    </tr>\n",
              "    <tr>\n",
              "      <th>2</th>\n",
              "      <td>0.596226</td>\n",
              "      <td>0.110997</td>\n",
              "    </tr>\n",
              "    <tr>\n",
              "      <th>3</th>\n",
              "      <td>-1.047909</td>\n",
              "      <td>1.207091</td>\n",
              "    </tr>\n",
              "    <tr>\n",
              "      <th>4</th>\n",
              "      <td>-0.876185</td>\n",
              "      <td>-0.034000</td>\n",
              "    </tr>\n",
              "  </tbody>\n",
              "</table>\n",
              "</div>"
            ],
            "text/plain": [
              "        Ave        SR\n",
              "0  1.072294  0.703152\n",
              "1  0.587725 -0.044139\n",
              "2  0.596226  0.110997\n",
              "3 -1.047909  1.207091\n",
              "4 -0.876185 -0.034000"
            ]
          },
          "metadata": {
            "tags": []
          },
          "execution_count": 22
        }
      ]
    },
    {
      "cell_type": "markdown",
      "metadata": {
        "id": "dnrzPO90VOWi"
      },
      "source": [
        "Hopkins test if value near 1 then good dataseet to do clusterng on"
      ]
    },
    {
      "cell_type": "code",
      "metadata": {
        "id": "WjV-cCnNVOWi"
      },
      "source": [
        "import matplotlib.pyplot as plt\n",
        "import numpy as np"
      ],
      "execution_count": 23,
      "outputs": []
    },
    {
      "cell_type": "code",
      "metadata": {
        "colab": {
          "base_uri": "https://localhost:8080/",
          "height": 282
        },
        "id": "kVWYkUqcVOWi",
        "outputId": "238a1930-3270-4951-e7c2-a8b773a6ab1c"
      },
      "source": [
        "plt.scatter(x=df['Ave'],y=df['SR'])"
      ],
      "execution_count": 28,
      "outputs": [
        {
          "output_type": "execute_result",
          "data": {
            "text/plain": [
              "<matplotlib.collections.PathCollection at 0x7f12cd1bab38>"
            ]
          },
          "metadata": {
            "tags": []
          },
          "execution_count": 28
        },
        {
          "output_type": "display_data",
          "data": {
            "image/png": "[encoded data removed]",
            "text/plain": [
              "<Figure size 432x288 with 1 Axes>"
            ]
          },
          "metadata": {
            "tags": [],
            "needs_background": "light"
          }
        }
      ]
    },
    {
      "cell_type": "code",
      "metadata": {
        "id": "7kqmOon3VOWj"
      },
      "source": [
        "from sklearn.cluster import KMeans"
      ],
      "execution_count": 29,
      "outputs": []
    },
    {
      "cell_type": "code",
      "metadata": {
        "colab": {
          "base_uri": "https://localhost:8080/"
        },
        "id": "mJP2ycWgVOWj",
        "outputId": "9191caae-b827-4364-a0a0-e65324998703"
      },
      "source": [
        "kmeans = KMeans(n_clusters = 10, max_iter = 50, random_state = 100)\n",
        "kmeans.fit(x)"
      ],
      "execution_count": 30,
      "outputs": [
        {
          "output_type": "execute_result",
          "data": {
            "text/plain": [
              "KMeans(algorithm='auto', copy_x=True, init='k-means++', max_iter=50,\n",
              "       n_clusters=10, n_init=10, n_jobs=None, precompute_distances='auto',\n",
              "       random_state=100, tol=0.0001, verbose=0)"
            ]
          },
          "metadata": {
            "tags": []
          },
          "execution_count": 30
        }
      ]
    },
    {
      "cell_type": "code",
      "metadata": {
        "colab": {
          "base_uri": "https://localhost:8080/"
        },
        "id": "_bHWo6NyVOWk",
        "outputId": "9758c522-7be4-424d-ad5d-8c0aa0316a2a"
      },
      "source": [
        "print(kmeans.cluster_centers_)"
      ],
      "execution_count": 31,
      "outputs": [
        {
          "output_type": "stream",
          "text": [
            "[[-1.06964673e-03  6.84900185e-01]\n",
            " [ 2.71054293e-01 -1.20043800e+00]\n",
            " [ 2.33642484e+00  1.31305051e+00]\n",
            " [-7.20005381e-01 -2.11395171e-01]\n",
            " [-2.54242330e+00  3.82311689e+00]\n",
            " [ 5.68809401e-01 -3.22599192e-01]\n",
            " [-1.15696791e+00 -1.31492533e+00]\n",
            " [-7.97293583e-01  1.74651986e+00]\n",
            " [ 2.56000683e+00 -5.20702290e-01]\n",
            " [ 1.09723085e+00  7.12108203e-01]]\n"
          ],
          "name": "stdout"
        }
      ]
    },
    {
      "cell_type": "code",
      "metadata": {
        "colab": {
          "base_uri": "https://localhost:8080/"
        },
        "id": "vquLfdVIVOWk",
        "outputId": "d344b75a-8ff6-47e1-9434-fb3fcc41e3e5"
      },
      "source": [
        "print(kmeans.labels_)"
      ],
      "execution_count": 32,
      "outputs": [
        {
          "output_type": "stream",
          "text": [
            "[9 5 5 7 3 5 5 5 1 5 0 5 7 2 3 2 3 0 0 1 0 1 1 5 7 2 0 4 6 5 3 3 1 3 2 3 3\n",
            " 0 8 5 3 3 9 6 3 6 9 6 3 5 7 5 1 3 3 6 5 0 3 0 3 7 5 9 9 9 3 1 5 3 0 6 3 6\n",
            " 1 5 3 0 3]\n"
          ],
          "name": "stdout"
        }
      ]
    },
    {
      "cell_type": "code",
      "metadata": {
        "colab": {
          "base_uri": "https://localhost:8080/",
          "height": 283
        },
        "id": "o1pnqRvqVOWl",
        "outputId": "0ab0d15c-b58f-4206-fe86-72e3f9452484"
      },
      "source": [
        "import matplotlib.pyplot as plt\n",
        "plt.scatter(x.iloc[:,0],x.iloc[:,1], c=kmeans.labels_, cmap='rainbow')"
      ],
      "execution_count": 33,
      "outputs": [
        {
          "output_type": "execute_result",
          "data": {
            "text/plain": [
              "<matplotlib.collections.PathCollection at 0x7f12c808c2b0>"
            ]
          },
          "metadata": {
            "tags": []
          },
          "execution_count": 33
        },
        {
          "output_type": "display_data",
          "data": {
            "image/png": "[encoded data removed]",
            "text/plain": [
              "<Figure size 432x288 with 1 Axes>"
            ]
          },
          "metadata": {
            "tags": [],
            "needs_background": "light"
          }
        }
      ]
    },
    {
      "cell_type": "code",
      "metadata": {
        "id": "UUrsF5ZhVOWl"
      },
      "source": [
        "#silhouette\n",
        "from sklearn.metrics import silhouette_score\n",
        "sse_ = []\n",
        "for k in range(2,15):\n",
        "\n",
        "    kmeans = KMeans(n_clusters = k,random_state=100).fit(x)\n",
        "    sse_.append([k, silhouette_score(x, kmeans.labels_)])"
      ],
      "execution_count": 37,
      "outputs": []
    },
    {
      "cell_type": "code",
      "metadata": {
        "colab": {
          "base_uri": "https://localhost:8080/",
          "height": 282
        },
        "id": "dTRl1IoDVOWl",
        "outputId": "5e131723-9bae-445f-eda8-2e7e73389ec6"
      },
      "source": [
        "plt.plot(pd.DataFrame(sse_)[0], pd.DataFrame(sse_)[1])"
      ],
      "execution_count": 38,
      "outputs": [
        {
          "output_type": "execute_result",
          "data": {
            "text/plain": [
              "[<matplotlib.lines.Line2D at 0x7f12c57c9eb8>]"
            ]
          },
          "metadata": {
            "tags": []
          },
          "execution_count": 38
        },
        {
          "output_type": "display_data",
          "data": {
            "image/png": "[encoded data removed]",
            "text/plain": [
              "<Figure size 432x288 with 1 Axes>"
            ]
          },
          "metadata": {
            "tags": [],
            "needs_background": "light"
          }
        }
      ]
    },
    {
      "cell_type": "code",
      "metadata": {
        "colab": {
          "base_uri": "https://localhost:8080/",
          "height": 282
        },
        "id": "57O6tqx_VOWm",
        "outputId": "8588d75e-e027-4e19-a71a-2f59bfce1fa9"
      },
      "source": [
        "#sum of square\n",
        "ssd = []\n",
        "for num_clusters in list(range(1,21)):\n",
        "    model_clus = KMeans(n_clusters = num_clusters, max_iter = 50, random_state = 100)\n",
        "    model_clus.fit(x)\n",
        "    ssd.append(model_clus.inertia_)\n",
        "    \n",
        "plt.plot(ssd)"
      ],
      "execution_count": 39,
      "outputs": [
        {
          "output_type": "execute_result",
          "data": {
            "text/plain": [
              "[<matplotlib.lines.Line2D at 0x7f12c573f898>]"
            ]
          },
          "metadata": {
            "tags": []
          },
          "execution_count": 39
        },
        {
          "output_type": "display_data",
          "data": {
            "image/png": "[encoded data removed]",
            "text/plain": [
              "<Figure size 432x288 with 1 Axes>"
            ]
          },
          "metadata": {
            "tags": [],
            "needs_background": "light"
          }
        }
      ]
    },
    {
      "cell_type": "code",
      "metadata": {
        "id": "qzoRM5R_VOWm"
      },
      "source": [
        "#our final cluster can have 5 clusters"
      ],
      "execution_count": 40,
      "outputs": []
    },
    {
      "cell_type": "code",
      "metadata": {
        "colab": {
          "base_uri": "https://localhost:8080/"
        },
        "id": "52yTHwgSVOWm",
        "outputId": "76dfd3a1-0ada-4aac-b8d5-6460818c2de3"
      },
      "source": [
        "model_clus = KMeans(n_clusters = 5, max_iter = 50, random_state = 100)\n",
        "model_clus.fit(x)"
      ],
      "execution_count": 41,
      "outputs": [
        {
          "output_type": "execute_result",
          "data": {
            "text/plain": [
              "KMeans(algorithm='auto', copy_x=True, init='k-means++', max_iter=50,\n",
              "       n_clusters=5, n_init=10, n_jobs=None, precompute_distances='auto',\n",
              "       random_state=100, tol=0.0001, verbose=0)"
            ]
          },
          "metadata": {
            "tags": []
          },
          "execution_count": 41
        }
      ]
    },
    {
      "cell_type": "code",
      "metadata": {
        "colab": {
          "base_uri": "https://localhost:8080/",
          "height": 283
        },
        "id": "_acBpE1yVOWn",
        "outputId": "bfdf6324-9720-4017-8616-365cbd35fb00"
      },
      "source": [
        "plt.scatter(x.iloc[:,0],x.iloc[:,1], c=model_clus.labels_, cmap='rainbow')"
      ],
      "execution_count": 42,
      "outputs": [
        {
          "output_type": "execute_result",
          "data": {
            "text/plain": [
              "<matplotlib.collections.PathCollection at 0x7f12c56af978>"
            ]
          },
          "metadata": {
            "tags": []
          },
          "execution_count": 42
        },
        {
          "output_type": "display_data",
          "data": {
            "image/png": "[encoded data removed]",
            "text/plain": [
              "<Figure size 432x288 with 1 Axes>"
            ]
          },
          "metadata": {
            "tags": [],
            "needs_background": "light"
          }
        }
      ]
    }
  ]
}